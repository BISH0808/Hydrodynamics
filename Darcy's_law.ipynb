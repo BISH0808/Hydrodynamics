{
  "nbformat": 4,
  "nbformat_minor": 0,
  "metadata": {
    "colab": {
      "provenance": [],
      "toc_visible": true,
      "authorship_tag": "ABX9TyNBBHmG3YkZxnxKFBuwJBqz",
      "include_colab_link": true
    },
    "kernelspec": {
      "name": "python3",
      "display_name": "Python 3"
    },
    "language_info": {
      "name": "python"
    }
  },
  "cells": [
    {
      "cell_type": "markdown",
      "metadata": {
        "id": "view-in-github",
        "colab_type": "text"
      },
      "source": [
        "<a href=\"https://colab.research.google.com/github/BISH0808/Hydrodynamics/blob/main/Darcy's_law.ipynb\" target=\"_parent\"><img src=\"https://colab.research.google.com/assets/colab-badge.svg\" alt=\"Open In Colab\"/></a>"
      ]
    },
    {
      "cell_type": "markdown",
      "source": [
        "\n",
        "##**Yoo need to run it before reading**\n"
      ],
      "metadata": {
        "id": "ZG47mqjEcWVw"
      }
    },
    {
      "cell_type": "code",
      "source": [
        "!pip install wikipedia\n",
        "import wikipedia\n",
        "\n",
        "from IPython import display"
      ],
      "metadata": {
        "colab": {
          "base_uri": "https://localhost:8080/"
        },
        "id": "GmpXdZoA7Dgh",
        "outputId": "fe5f1ac9-81e4-4d0a-ab01-b5b2b2a88416"
      },
      "execution_count": 1,
      "outputs": [
        {
          "output_type": "stream",
          "name": "stdout",
          "text": [
            "Looking in indexes: https://pypi.org/simple, https://us-python.pkg.dev/colab-wheels/public/simple/\n",
            "Collecting wikipedia\n",
            "  Downloading wikipedia-1.4.0.tar.gz (27 kB)\n",
            "Requirement already satisfied: beautifulsoup4 in /usr/local/lib/python3.8/dist-packages (from wikipedia) (4.6.3)\n",
            "Requirement already satisfied: requests<3.0.0,>=2.0.0 in /usr/local/lib/python3.8/dist-packages (from wikipedia) (2.23.0)\n",
            "Requirement already satisfied: idna<3,>=2.5 in /usr/local/lib/python3.8/dist-packages (from requests<3.0.0,>=2.0.0->wikipedia) (2.10)\n",
            "Requirement already satisfied: urllib3!=1.25.0,!=1.25.1,<1.26,>=1.21.1 in /usr/local/lib/python3.8/dist-packages (from requests<3.0.0,>=2.0.0->wikipedia) (1.24.3)\n",
            "Requirement already satisfied: certifi>=2017.4.17 in /usr/local/lib/python3.8/dist-packages (from requests<3.0.0,>=2.0.0->wikipedia) (2022.9.24)\n",
            "Requirement already satisfied: chardet<4,>=3.0.2 in /usr/local/lib/python3.8/dist-packages (from requests<3.0.0,>=2.0.0->wikipedia) (3.0.4)\n",
            "Building wheels for collected packages: wikipedia\n",
            "  Building wheel for wikipedia (setup.py) ... \u001b[?25l\u001b[?25hdone\n",
            "  Created wheel for wikipedia: filename=wikipedia-1.4.0-py3-none-any.whl size=11695 sha256=24d5a578d6e6ddedd1fde81d2a8fd87a22b42e8915f4cdde04cd3b4adfc681b2\n",
            "  Stored in directory: /root/.cache/pip/wheels/07/93/05/72c05349177dca2e0ba31a33ba4f7907606f7ddef303517c6a\n",
            "Successfully built wikipedia\n",
            "Installing collected packages: wikipedia\n",
            "Successfully installed wikipedia-1.4.0\n"
          ]
        }
      ]
    },
    {
      "cell_type": "markdown",
      "source": [
        "##**Darcy's biography**"
      ],
      "metadata": {
        "id": "dDbZcLLt8wE3"
      }
    },
    {
      "cell_type": "code",
      "source": [
        "wikipedia.summary(\"Henry Darcy\")"
      ],
      "metadata": {
        "colab": {
          "base_uri": "https://localhost:8080/",
          "height": 53
        },
        "id": "BDQ3JOaF9Mhn",
        "outputId": "7c86783f-b229-4e75-beb4-0ba90faf3a3d"
      },
      "execution_count": 5,
      "outputs": [
        {
          "output_type": "execute_result",
          "data": {
            "text/plain": [
              "'Henry Philibert Gaspard Darcy (pronounced [ɑ̃ʁi daʁsi], 10 June 1803 – 3 January 1858) was a French engineer who made several important contributions to hydraulics, including Darcy’s law for flow in porous media.'"
            ],
            "application/vnd.google.colaboratory.intrinsic+json": {
              "type": "string"
            }
          },
          "metadata": {},
          "execution_count": 5
        }
      ]
    },
    {
      "cell_type": "code",
      "source": [
        "display.Image(wikipedia.page(\"Henry Darcy\").images[1])"
      ],
      "metadata": {
        "colab": {
          "base_uri": "https://localhost:8080/",
          "height": 354
        },
        "id": "QsmADL49YZdB",
        "outputId": "948b428c-3d41-496e-97fe-49a93dd2fb53"
      },
      "execution_count": 10,
      "outputs": [
        {
          "output_type": "execute_result",
          "data": {
            "image/jpeg": "[encoded data removed]",
            "text/plain": [
              "<IPython.core.display.Image object>"
            ]
          },
          "metadata": {},
          "execution_count": 10
        }
      ]
    },
    {
      "cell_type": "markdown",
      "source": [
        "**Engineering career**"
      ],
      "metadata": {
        "id": "2oby19yIczHo"
      }
    },
    {
      "cell_type": "code",
      "source": [
        "wikipedia.page(\"Henry Darcy\").section('Engineering career')"
      ],
      "metadata": {
        "colab": {
          "base_uri": "https://localhost:8080/",
          "height": 279
        },
        "id": "-yxIOYprL3ig",
        "outputId": "1735b8b4-7bf8-46c2-da74-6b4a1a128118"
      },
      "execution_count": 6,
      "outputs": [
        {
          "output_type": "execute_result",
          "data": {
            "text/plain": [
              "\"As a member of the Corps, he built an adequate pressurized water distribution system in Dijon following the failure of attempts to supply adequate fresh water by drilling wells.  The system carried water from Rosoir Spring 12.7 kilometres (7.9 mi) away through a covered aqueduct (watercourse) to reservoirs near the city, which then fed into a network of 28,000 meters of pressurized pipes delivering water to much of the city.  The system was fully closed and driven by gravity, and thus required no pumps with just sand acting as a filter.  He was also involved in many other public works in and around Dijon, as well as in the politics of the Dijon city government.\\nDuring this period he modified the Prony equation for calculating head loss due to friction, which after further modification by Julius Weisbach would become the well-known Darcy–Weisbach equation still in use today.\\nIn 1848 he became Chief Engineer for the département of which Dijon is the capital.  Soon thereafter he left Dijon due to political pressure, but was promoted to Chief Director for Water and Pavements and took up office in Paris.  While in that position, he was able to focus more on his hydraulics research, especially on flow and friction losses in pipes.  During this period he improved the design of the Pitot tube, into essentially the form used today.\\nHe resigned from his post in 1855 due to poor health but was permitted to continue his research in Dijon.  In 1855 and 1856 he conducted experiments where water flowed through a column filled with sand that established what has become known as Darcy's law; initially developed to describe flow through sands, it has since been generalized to a variety of situations and is in widespread use today e.g. for calculating the resistance of any type of porous media flow. The unit of measure of material permeability, the darcy is named in his honour.\\nDarcy died of pneumonia while on a trip to Paris in 1858 and is buried in Cimetière de Dijon (formerly known as Péjoces) in Dijon.\""
            ],
            "application/vnd.google.colaboratory.intrinsic+json": {
              "type": "string"
            }
          },
          "metadata": {},
          "execution_count": 6
        }
      ]
    },
    {
      "cell_type": "markdown",
      "source": [
        "**Publications**"
      ],
      "metadata": {
        "id": "Yyy6-a7Tc3en"
      }
    },
    {
      "cell_type": "code",
      "source": [
        "wikipedia.page(\"Henry Darcy\").section('Publications')"
      ],
      "metadata": {
        "colab": {
          "base_uri": "https://localhost:8080/",
          "height": 105
        },
        "id": "l0ABbmO9ctgg",
        "outputId": "2c478bbf-4276-40c4-b598-a01a83de1202"
      },
      "execution_count": 11,
      "outputs": [
        {
          "output_type": "execute_result",
          "data": {
            "text/plain": [
              "\"Les fontaines publiques de la ville de Dijon: exposition et application ... Victor Dalmont. 1856.\\nDarcy, Henry-Philibert-Gaspard (1857). Recherches expérimentales relatives au mouvement de l'eau dans les tuyaux. Impr. Impériale.\\nDarcy, Henri; Bazin, Henry (1865). Recherches hydrauliques: Recherches expérimentales sur l'écoulement de l'eau dans les canaux découverts (1ère partie ed.). Dunod.\\nDarcy, Henri; Bazin, Henry (1865). Recherches hydrauliques entreprises par M. Henry Darcy continuées par M. Henri Bazin (Deuxième partie. Recherches expérimentales relatives au remous et à la propagation des ondes ed.). Paris: Imprimerie impériale.\""
            ],
            "application/vnd.google.colaboratory.intrinsic+json": {
              "type": "string"
            }
          },
          "metadata": {},
          "execution_count": 11
        }
      ]
    },
    {
      "cell_type": "markdown",
      "source": [
        "Source: https://en.wikipedia.org/wiki/Henry_Darcy from Wikipedia.org"
      ],
      "metadata": {
        "id": "rE_Zg_FpcCrK"
      }
    },
    {
      "cell_type": "markdown",
      "source": [
        "##**Darcy's law**"
      ],
      "metadata": {
        "id": "D04zh-1ZKIXR"
      }
    },
    {
      "cell_type": "code",
      "source": [
        "wikipedia.summary(\"Darcy's law\")"
      ],
      "metadata": {
        "colab": {
          "base_uri": "https://localhost:8080/",
          "height": 88
        },
        "id": "YUmK-OWUKOiJ",
        "outputId": "ba97221e-f03d-4834-9dea-3355ba08af71"
      },
      "execution_count": 4,
      "outputs": [
        {
          "output_type": "execute_result",
          "data": {
            "text/plain": [
              "\"Darcy's law is an equation that describes the flow of a fluid through a porous medium. The law was formulated by Henry Darcy based on results of experiments on the flow of water through beds of sand, forming the basis of hydrogeology, a branch of earth sciences. It is analogous to Ohm's law in electrostatics, linearly relating the volume flow rate of the fluid to the hydraulic head difference (which is often just proportional to the pressure difference) via the hydraulic conductivity.\""
            ],
            "application/vnd.google.colaboratory.intrinsic+json": {
              "type": "string"
            }
          },
          "metadata": {},
          "execution_count": 4
        }
      ]
    },
    {
      "cell_type": "code",
      "source": [],
      "metadata": {
        "id": "bnNI_eFeQgK9"
      },
      "execution_count": null,
      "outputs": []
    },
    {
      "cell_type": "markdown",
      "source": [
        "##**Useful references from linked artilces**"
      ],
      "metadata": {
        "id": "pqOfKN71XrwU"
      }
    },
    {
      "cell_type": "code",
      "source": [
        "wikipedia.page(\"Henry Darcy\").references"
      ],
      "metadata": {
        "colab": {
          "base_uri": "https://localhost:8080/"
        },
        "id": "UUJhd1WSXwJy",
        "outputId": "67fce954-1aa9-493a-e8ea-435101fa5b0c"
      },
      "execution_count": 8,
      "outputs": [
        {
          "output_type": "execute_result",
          "data": {
            "text/plain": [
              "['http://scholar.google.com/scholar?q=%22Henry+Darcy%22',\n",
              " 'http://www.google.com/search?&q=%22Henry+Darcy%22&tbs=bkt:s&tbm=bks',\n",
              " 'http://www.google.com/search?as_eq=wikipedia&q=%22Henry+Darcy%22',\n",
              " 'http://www.google.com/search?tbm=nws&q=%22Henry+Darcy%22+-wikipedia&tbs=ar:1',\n",
              " 'http://www.google.com/search?tbs=bks:1&q=%22Henry+Darcy%22+-wikipedia',\n",
              " 'http://citeseerx.ist.psu.edu/viewdoc/summary?doi=10.1.1.493.4674',\n",
              " 'http://www.envsci.rutgers.edu/~gimenez/Soils%20and%20Water-Lectures/Darcy%20Scientific%20Achievement.pdf',\n",
              " 'http://doi.org/10.1007%2Fs10040-008-0304-3',\n",
              " 'http://doi.org/10.1029%2F2001WR000727',\n",
              " 'http://doi.org/10.1111%2Fj.1745-6584.1994.tb00606.x',\n",
              " 'http://doi.org/10.2118%2F762-G',\n",
              " 'http://id.worldcat.org/fast/254490/',\n",
              " 'http://www.worldcat.org/issn/0017-467X',\n",
              " 'http://www.worldcat.org/issn/1944-7973',\n",
              " 'http://mak.bn.org.pl/cgi-bin/KHW/makwww.exe?BM=1&NU=1&IM=4&WI=9810704931905606',\n",
              " 'https://nla.gov.au/anbd.aut-an35033370',\n",
              " 'https://trove.nla.gov.au/people/805956',\n",
              " 'https://books.google.com/books?id=DOwbgyt_MzQC&pg=PA1',\n",
              " 'https://books.google.com/books?id=s88WAAAAQAAJ',\n",
              " 'https://books.google.com/books?id=uoD3nZfNtPwC&pg=PA140',\n",
              " 'https://aleph.nkp.cz/F/?func=find-c&local_base=aut&ccl_term=ica=xx0189912&CON_LNG=ENG',\n",
              " 'https://ui.adsabs.harvard.edu/abs/2002WRR....38.1106B',\n",
              " 'https://ui.adsabs.harvard.edu/abs/2008HydJ...16.1023S',\n",
              " 'https://catalogue.bnf.fr/ark:/12148/cb13007572h',\n",
              " 'https://data.bnf.fr/ark:/12148/cb13007572h',\n",
              " 'https://archives.cotedor.fr/v2/ad21/visualiseur/registre.html?ir=23251&id=516527640',\n",
              " 'https://www.idref.fr/080512054',\n",
              " 'https://www.idref.fr/133418278',\n",
              " 'https://id.loc.gov/authorities/names/n88272940',\n",
              " 'https://d-nb.info/gnd/128831820',\n",
              " 'https://web.archive.org/web/20140529103439/http://www.envsci.rutgers.edu/~gimenez/Soils%20and%20Water-Lectures/Darcy%20Scientific%20Achievement.pdf',\n",
              " 'https://isni.org/isni/0000000110362660',\n",
              " 'https://www.jstor.org/action/doBasicSearch?Query=%22Henry+Darcy%22&acc=on&wc=on',\n",
              " 'https://www.onepetro.org/journal-paper/SPE-762-G',\n",
              " 'https://api.semanticscholar.org/CorpusID:17549769',\n",
              " 'https://api.semanticscholar.org/CorpusID:51776644',\n",
              " 'https://viaf.org/viaf/5065253',\n",
              " 'https://www.wikidata.org/wiki/Q438507#identifiers',\n",
              " 'https://www.worldcat.org/identities/lccn-n88272940/']"
            ]
          },
          "metadata": {},
          "execution_count": 8
        }
      ]
    },
    {
      "cell_type": "code",
      "source": [
        "wikipedia.page(\"Henry Darcy\").images"
      ],
      "metadata": {
        "colab": {
          "base_uri": "https://localhost:8080/"
        },
        "id": "vtCRr_JNYK4R",
        "outputId": "54d3bf13-3725-4e23-afe6-30a146ac0049"
      },
      "execution_count": 9,
      "outputs": [
        {
          "output_type": "execute_result",
          "data": {
            "text/plain": [
              "['https://upload.wikimedia.org/wikipedia/commons/0/00/Dijon_-_parc_Darcy_-_buste_Darcy.JPG',\n",
              " 'https://upload.wikimedia.org/wikipedia/commons/6/65/Henry_Darcy.jpg',\n",
              " 'https://upload.wikimedia.org/wikipedia/en/4/4a/Commons-logo.svg',\n",
              " 'https://upload.wikimedia.org/wikipedia/en/8/8a/OOjs_UI_icon_edit-ltr-progressive.svg',\n",
              " 'https://upload.wikimedia.org/wikipedia/en/1/18/Place_Darcy.JPG',\n",
              " 'https://upload.wikimedia.org/wikipedia/en/9/99/Question_book-new.svg']"
            ]
          },
          "metadata": {},
          "execution_count": 9
        }
      ]
    },
    {
      "cell_type": "markdown",
      "source": [
        "##**Bibliography/References**"
      ],
      "metadata": {
        "id": "JHz5mRY9QIE2"
      }
    },
    {
      "cell_type": "markdown",
      "source": [
        "https://en.wikipedia.org/wiki/Henry_Darcy\n",
        "\n",
        "https://en.wikipedia.org/wiki/Darcy%27s_law"
      ],
      "metadata": {
        "id": "vKtAnk_JdNSY"
      }
    }
  ]
}