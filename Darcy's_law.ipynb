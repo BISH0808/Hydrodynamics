{
  "nbformat": 4,
  "nbformat_minor": 0,
  "metadata": {
    "colab": {
      "provenance": [],
      "toc_visible": true,
      "collapsed_sections": [
        "ZG47mqjEcWVw"
      ],
      "authorship_tag": "ABX9TyMc8xdTwjeSA9r6Mo9mFaan",
      "include_colab_link": true
    },
    "kernelspec": {
      "name": "python3",
      "display_name": "Python 3"
    },
    "language_info": {
      "name": "python"
    }
  },
  "cells": [
    {
      "cell_type": "markdown",
      "metadata": {
        "id": "view-in-github",
        "colab_type": "text"
      },
      "source": [
        "<a href=\"https://colab.research.google.com/github/BISH0808/Hydrodynamics/blob/main/Darcy's_law.ipynb\" target=\"_parent\"><img src=\"https://colab.research.google.com/assets/colab-badge.svg\" alt=\"Open In Colab\"/></a>"
      ]
    },
    {
      "cell_type": "markdown",
      "source": [
        "##**Darcy and Darcy's Law**"
      ],
      "metadata": {
        "id": "n4PKvSIcre4z"
      }
    },
    {
      "cell_type": "markdown",
      "source": [
        "\n",
        "##**Yoo need to run it before reading**\n"
      ],
      "metadata": {
        "id": "ZG47mqjEcWVw"
      }
    },
    {
      "cell_type": "markdown",
      "source": [],
      "metadata": {
        "id": "GqEwlT25rbHq"
      }
    },
    {
      "cell_type": "code",
      "source": [
        "!pip install wikipedia\n",
        "import wikipedia\n",
        "\n",
        "from IPython import display"
      ],
      "metadata": {
        "colab": {
          "base_uri": "https://localhost:8080/"
        },
        "id": "GmpXdZoA7Dgh",
        "outputId": "2a58863c-31d7-4456-9acf-5e569f18ce14"
      },
      "execution_count": null,
      "outputs": [
        {
          "output_type": "stream",
          "name": "stdout",
          "text": [
            "Looking in indexes: https://pypi.org/simple, https://us-python.pkg.dev/colab-wheels/public/simple/\n",
            "Collecting wikipedia\n",
            "  Downloading wikipedia-1.4.0.tar.gz (27 kB)\n",
            "Requirement already satisfied: beautifulsoup4 in /usr/local/lib/python3.8/dist-packages (from wikipedia) (4.6.3)\n",
            "Requirement already satisfied: requests<3.0.0,>=2.0.0 in /usr/local/lib/python3.8/dist-packages (from wikipedia) (2.23.0)\n",
            "Requirement already satisfied: urllib3!=1.25.0,!=1.25.1,<1.26,>=1.21.1 in /usr/local/lib/python3.8/dist-packages (from requests<3.0.0,>=2.0.0->wikipedia) (1.24.3)\n",
            "Requirement already satisfied: idna<3,>=2.5 in /usr/local/lib/python3.8/dist-packages (from requests<3.0.0,>=2.0.0->wikipedia) (2.10)\n",
            "Requirement already satisfied: certifi>=2017.4.17 in /usr/local/lib/python3.8/dist-packages (from requests<3.0.0,>=2.0.0->wikipedia) (2022.9.24)\n",
            "Requirement already satisfied: chardet<4,>=3.0.2 in /usr/local/lib/python3.8/dist-packages (from requests<3.0.0,>=2.0.0->wikipedia) (3.0.4)\n",
            "Building wheels for collected packages: wikipedia\n",
            "  Building wheel for wikipedia (setup.py) ... \u001b[?25l\u001b[?25hdone\n",
            "  Created wheel for wikipedia: filename=wikipedia-1.4.0-py3-none-any.whl size=11695 sha256=3997099cec0485be4f21596bf24d463833668f4aea1d6ab2f8ba0d86d9a1e693\n",
            "  Stored in directory: /root/.cache/pip/wheels/07/93/05/72c05349177dca2e0ba31a33ba4f7907606f7ddef303517c6a\n",
            "Successfully built wikipedia\n",
            "Installing collected packages: wikipedia\n",
            "Successfully installed wikipedia-1.4.0\n"
          ]
        }
      ]
    },
    {
      "cell_type": "markdown",
      "source": [
        "##**Darcy's biography**"
      ],
      "metadata": {
        "id": "dDbZcLLt8wE3"
      }
    },
    {
      "cell_type": "code",
      "source": [
        "wikipedia.summary(\"Henry Darcy\")"
      ],
      "metadata": {
        "colab": {
          "base_uri": "https://localhost:8080/",
          "height": 53
        },
        "id": "BDQ3JOaF9Mhn",
        "outputId": "7c86783f-b229-4e75-beb4-0ba90faf3a3d"
      },
      "execution_count": null,
      "outputs": [
        {
          "output_type": "execute_result",
          "data": {
            "text/plain": [
              "'Henry Philibert Gaspard Darcy (pronounced [ɑ̃ʁi daʁsi], 10 June 1803 – 3 January 1858) was a French engineer who made several important contributions to hydraulics, including Darcy’s law for flow in porous media.'"
            ],
            "application/vnd.google.colaboratory.intrinsic+json": {
              "type": "string"
            }
          },
          "metadata": {},
          "execution_count": 5
        }
      ]
    },
    {
      "cell_type": "code",
      "source": [
        "display.Image(wikipedia.page(\"Henry Darcy\").images[1])"
      ],
      "metadata": {
        "colab": {
          "base_uri": "https://localhost:8080/",
          "height": 354
        },
        "id": "QsmADL49YZdB",
        "outputId": "948b428c-3d41-496e-97fe-49a93dd2fb53"
      },
      "execution_count": null,
      "outputs": [
        {
          "output_type": "execute_result",
          "data": {
            "image/jpeg": "[encoded data removed]",
            "text/plain": [
              "<IPython.core.display.Image object>"
            ]
          },
          "metadata": {},
          "execution_count": 10
        }
      ]
    },
    {
      "cell_type": "markdown",
      "source": [
        "**Engineering career**"
      ],
      "metadata": {
        "id": "2oby19yIczHo"
      }
    },
    {
      "cell_type": "code",
      "source": [
        "wikipedia.page(\"Henry Darcy\").section('Engineering career')"
      ],
      "metadata": {
        "colab": {
          "base_uri": "https://localhost:8080/",
          "height": 209
        },
        "id": "-yxIOYprL3ig",
        "outputId": "1735b8b4-7bf8-46c2-da74-6b4a1a128118"
      },
      "execution_count": null,
      "outputs": [
        {
          "output_type": "execute_result",
          "data": {
            "text/plain": [
              "\"As a member of the Corps, he built an adequate pressurized water distribution system in Dijon following the failure of attempts to supply adequate fresh water by drilling wells.  The system carried water from Rosoir Spring 12.7 kilometres (7.9 mi) away through a covered aqueduct (watercourse) to reservoirs near the city, which then fed into a network of 28,000 meters of pressurized pipes delivering water to much of the city.  The system was fully closed and driven by gravity, and thus required no pumps with just sand acting as a filter.  He was also involved in many other public works in and around Dijon, as well as in the politics of the Dijon city government.\\nDuring this period he modified the Prony equation for calculating head loss due to friction, which after further modification by Julius Weisbach would become the well-known Darcy–Weisbach equation still in use today.\\nIn 1848 he became Chief Engineer for the département of which Dijon is the capital.  Soon thereafter he left Dijon due to political pressure, but was promoted to Chief Director for Water and Pavements and took up office in Paris.  While in that position, he was able to focus more on his hydraulics research, especially on flow and friction losses in pipes.  During this period he improved the design of the Pitot tube, into essentially the form used today.\\nHe resigned from his post in 1855 due to poor health but was permitted to continue his research in Dijon.  In 1855 and 1856 he conducted experiments where water flowed through a column filled with sand that established what has become known as Darcy's law; initially developed to describe flow through sands, it has since been generalized to a variety of situations and is in widespread use today e.g. for calculating the resistance of any type of porous media flow. The unit of measure of material permeability, the darcy is named in his honour.\\nDarcy died of pneumonia while on a trip to Paris in 1858 and is buried in Cimetière de Dijon (formerly known as Péjoces) in Dijon.\""
            ],
            "application/vnd.google.colaboratory.intrinsic+json": {
              "type": "string"
            }
          },
          "metadata": {},
          "execution_count": 6
        }
      ]
    },
    {
      "cell_type": "markdown",
      "source": [
        "**Publications**"
      ],
      "metadata": {
        "id": "Yyy6-a7Tc3en"
      }
    },
    {
      "cell_type": "code",
      "source": [
        "wikipedia.page(\"Henry Darcy\").section('Publications')"
      ],
      "metadata": {
        "colab": {
          "base_uri": "https://localhost:8080/",
          "height": 87
        },
        "id": "l0ABbmO9ctgg",
        "outputId": "2c478bbf-4276-40c4-b598-a01a83de1202"
      },
      "execution_count": null,
      "outputs": [
        {
          "output_type": "execute_result",
          "data": {
            "text/plain": [
              "\"Les fontaines publiques de la ville de Dijon: exposition et application ... Victor Dalmont. 1856.\\nDarcy, Henry-Philibert-Gaspard (1857). Recherches expérimentales relatives au mouvement de l'eau dans les tuyaux. Impr. Impériale.\\nDarcy, Henri; Bazin, Henry (1865). Recherches hydrauliques: Recherches expérimentales sur l'écoulement de l'eau dans les canaux découverts (1ère partie ed.). Dunod.\\nDarcy, Henri; Bazin, Henry (1865). Recherches hydrauliques entreprises par M. Henry Darcy continuées par M. Henri Bazin (Deuxième partie. Recherches expérimentales relatives au remous et à la propagation des ondes ed.). Paris: Imprimerie impériale.\""
            ],
            "application/vnd.google.colaboratory.intrinsic+json": {
              "type": "string"
            }
          },
          "metadata": {},
          "execution_count": 11
        }
      ]
    },
    {
      "cell_type": "markdown",
      "source": [
        "Source: https://en.wikipedia.org/wiki/Henry_Darcy from Wikipedia.org"
      ],
      "metadata": {
        "id": "rE_Zg_FpcCrK"
      }
    },
    {
      "cell_type": "markdown",
      "source": [
        "##**Darcy's law**"
      ],
      "metadata": {
        "id": "D04zh-1ZKIXR"
      }
    },
    {
      "cell_type": "code",
      "source": [
        "wikipedia.summary(\"Darcy's law\")"
      ],
      "metadata": {
        "colab": {
          "base_uri": "https://localhost:8080/",
          "height": 70
        },
        "id": "YUmK-OWUKOiJ",
        "outputId": "ba97221e-f03d-4834-9dea-3355ba08af71"
      },
      "execution_count": null,
      "outputs": [
        {
          "output_type": "execute_result",
          "data": {
            "text/plain": [
              "\"Darcy's law is an equation that describes the flow of a fluid through a porous medium. The law was formulated by Henry Darcy based on results of experiments on the flow of water through beds of sand, forming the basis of hydrogeology, a branch of earth sciences. It is analogous to Ohm's law in electrostatics, linearly relating the volume flow rate of the fluid to the hydraulic head difference (which is often just proportional to the pressure difference) via the hydraulic conductivity.\""
            ],
            "application/vnd.google.colaboratory.intrinsic+json": {
              "type": "string"
            }
          },
          "metadata": {},
          "execution_count": 4
        }
      ]
    },
    {
      "cell_type": "markdown",
      "source": [
        "Source: https://en.wikipedia.org/wiki/Darcy%27s_law from Wikipedia.org"
      ],
      "metadata": {
        "id": "0qJissbS-hNI"
      }
    },
    {
      "cell_type": "markdown",
      "source": [
        "\n",
        "**In 1856, in \"Les Fontaines Publiques de la Ville de Dijon\" (Public fountains of Dijon. Paris, 1856) published the results of experiments on filtering water in sand.**"
      ],
      "metadata": {
        "id": "kodBNUC2SR8X"
      }
    },
    {
      "cell_type": "markdown",
      "source": [
        "Source:  Darcy, Henry (1856). \"Les Fontaines Publiques de la Ville de Dijon\". Paris: Victor Dalmont."
      ],
      "metadata": {
        "id": "Am_DWIceSzc-"
      }
    },
    {
      "cell_type": "code",
      "source": [],
      "metadata": {
        "id": "VxbVoIA_nkRy"
      },
      "execution_count": null,
      "outputs": []
    },
    {
      "cell_type": "markdown",
      "source": [
        "![Darcys law.png](data:image/png;base64,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)"
      ],
      "metadata": {
        "id": "Oi95K8j6FGq1"
      }
    },
    {
      "cell_type": "markdown",
      "source": [
        " **q/A = -k/mu * dP/dx**\n",
        "\n",
        "\n",
        "\n",
        "> Notation: \n",
        "\n",
        " q  - flow rate, cm3/sec\n",
        "\n",
        " A  -  cross-sectional area, cm2\n",
        "\n",
        " k -  permeability, Darcy\n",
        "\n",
        " mu  - fluid viscosity, cp\n",
        "\n",
        " P  - pressure, atm\n",
        "\n",
        " x  - distance, cm\n",
        "\n",
        "\n",
        "\n",
        "\n",
        "\n",
        "\n"
      ],
      "metadata": {
        "id": "60H0inAKB0hF"
      }
    },
    {
      "cell_type": "markdown",
      "source": [
        "**The integral form of the Darcy:**"
      ],
      "metadata": {
        "id": "-U8Ovr7dlSqV"
      }
    },
    {
      "cell_type": "markdown",
      "source": [
        "![image.png](data:image/png;base64,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)"
      ],
      "metadata": {
        "id": "2vDWHujjmWLc"
      }
    },
    {
      "cell_type": "markdown",
      "source": [
        "**Darcy's formula (differential form):**"
      ],
      "metadata": {
        "id": "RaaMeITk9xKo"
      }
    },
    {
      "cell_type": "markdown",
      "source": [
        "![image.png](data:image/png;base64,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)"
      ],
      "metadata": {
        "id": "XXG6cszymY5L"
      }
    },
    {
      "cell_type": "markdown",
      "source": [
        "Source: https://en.wikipedia.org/wiki/Darcy%27s_law from Wikipedia.org"
      ],
      "metadata": {
        "id": "lSlljARxnm6q"
      }
    },
    {
      "cell_type": "markdown",
      "source": [
        "**Conditions:**"
      ],
      "metadata": {
        "id": "pasjuyUwlUOU"
      }
    },
    {
      "cell_type": "markdown",
      "source": [
        "*  Single fluid\n",
        "*  Steady stay flow\n",
        "*  Constant fluid compressibility\n",
        "*  Constant temperature"
      ],
      "metadata": {
        "id": "xKndVxd3lauc"
      }
    },
    {
      "cell_type": "markdown",
      "source": [
        "**Linear equation for Darcy's law:**"
      ],
      "metadata": {
        "id": "N3FgleMZntSD"
      }
    },
    {
      "cell_type": "markdown",
      "source": [
        "![image.png](data:image/png;base64,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)"
      ],
      "metadata": {
        "id": "NsPMedhDSAIe"
      }
    },
    {
      "cell_type": "markdown",
      "source": [
        "**Radial equation for Darcy's law:**"
      ],
      "metadata": {
        "id": "dvhBExXVBe1n"
      }
    },
    {
      "cell_type": "markdown",
      "source": [
        "![image.png](data:image/png;base64,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)"
      ],
      "metadata": {
        "id": "0DkJ1hR1oxFy"
      }
    },
    {
      "cell_type": "markdown",
      "source": [
        "**Use in petroleum engineering**"
      ],
      "metadata": {
        "id": "N5ADMqakuMpk"
      }
    },
    {
      "cell_type": "markdown",
      "source": [
        "Another derivation of Darcy's law is used extensively in petroleum engineering to determine the flow through permeable media — the most simple of which is for a one-dimensional, homogeneous rock formation with a single fluid phase and constant fluid viscosity.\n",
        "\n",
        "Almost all oil reservoirs have a water zone below the oil leg, and some have also a gas cap above the oil leg. When the reservoir pressure drops due to oil production, water flows into the oil zone from below, and gas flows into the oil zone from above (if the gas cap exists), and we get a simultaneous flow and immiscible mixing of all fluid phases in the oil zone. The operator of the oil field may also inject water (and/or gas) in order to improve oil production. The petroleum industry is therefore using a generalized Darcy equation for multiphase flow that was developed by Muskat et alios. Because Darcy's name is so widespread and strongly associated with flow in porous media, the multiphase equation is denoted Darcy's law for multiphase flow or generalized Darcy equation (or law) or simply Darcy's equation (or law) or simply flow equation if the context says that the text is discussing the multiphase equation of Muskat et alios. Multiphase flow in oil and gas reservoirs is a comprehensive topic, and one of many articles about this topic is Darcy's law for multiphase flow."
      ],
      "metadata": {
        "id": "FzAnjFgxurqU"
      }
    },
    {
      "cell_type": "markdown",
      "source": [
        "Source: https://en.wikipedia.org/wiki/Darcy%27s_law from Wikipedia.org"
      ],
      "metadata": {
        "id": "RZo8SsJuuvTK"
      }
    },
    {
      "cell_type": "markdown",
      "source": [
        "##**Useful references from linked artilces**"
      ],
      "metadata": {
        "id": "pqOfKN71XrwU"
      }
    },
    {
      "cell_type": "code",
      "source": [
        "wikipedia.page(\"Henry Darcy\").references"
      ],
      "metadata": {
        "colab": {
          "base_uri": "https://localhost:8080/"
        },
        "id": "UUJhd1WSXwJy",
        "outputId": "67fce954-1aa9-493a-e8ea-435101fa5b0c"
      },
      "execution_count": null,
      "outputs": [
        {
          "output_type": "execute_result",
          "data": {
            "text/plain": [
              "['http://scholar.google.com/scholar?q=%22Henry+Darcy%22',\n",
              " 'http://www.google.com/search?&q=%22Henry+Darcy%22&tbs=bkt:s&tbm=bks',\n",
              " 'http://www.google.com/search?as_eq=wikipedia&q=%22Henry+Darcy%22',\n",
              " 'http://www.google.com/search?tbm=nws&q=%22Henry+Darcy%22+-wikipedia&tbs=ar:1',\n",
              " 'http://www.google.com/search?tbs=bks:1&q=%22Henry+Darcy%22+-wikipedia',\n",
              " 'http://citeseerx.ist.psu.edu/viewdoc/summary?doi=10.1.1.493.4674',\n",
              " 'http://www.envsci.rutgers.edu/~gimenez/Soils%20and%20Water-Lectures/Darcy%20Scientific%20Achievement.pdf',\n",
              " 'http://doi.org/10.1007%2Fs10040-008-0304-3',\n",
              " 'http://doi.org/10.1029%2F2001WR000727',\n",
              " 'http://doi.org/10.1111%2Fj.1745-6584.1994.tb00606.x',\n",
              " 'http://doi.org/10.2118%2F762-G',\n",
              " 'http://id.worldcat.org/fast/254490/',\n",
              " 'http://www.worldcat.org/issn/0017-467X',\n",
              " 'http://www.worldcat.org/issn/1944-7973',\n",
              " 'http://mak.bn.org.pl/cgi-bin/KHW/makwww.exe?BM=1&NU=1&IM=4&WI=9810704931905606',\n",
              " 'https://nla.gov.au/anbd.aut-an35033370',\n",
              " 'https://trove.nla.gov.au/people/805956',\n",
              " 'https://books.google.com/books?id=DOwbgyt_MzQC&pg=PA1',\n",
              " 'https://books.google.com/books?id=s88WAAAAQAAJ',\n",
              " 'https://books.google.com/books?id=uoD3nZfNtPwC&pg=PA140',\n",
              " 'https://aleph.nkp.cz/F/?func=find-c&local_base=aut&ccl_term=ica=xx0189912&CON_LNG=ENG',\n",
              " 'https://ui.adsabs.harvard.edu/abs/2002WRR....38.1106B',\n",
              " 'https://ui.adsabs.harvard.edu/abs/2008HydJ...16.1023S',\n",
              " 'https://catalogue.bnf.fr/ark:/12148/cb13007572h',\n",
              " 'https://data.bnf.fr/ark:/12148/cb13007572h',\n",
              " 'https://archives.cotedor.fr/v2/ad21/visualiseur/registre.html?ir=23251&id=516527640',\n",
              " 'https://www.idref.fr/080512054',\n",
              " 'https://www.idref.fr/133418278',\n",
              " 'https://id.loc.gov/authorities/names/n88272940',\n",
              " 'https://d-nb.info/gnd/128831820',\n",
              " 'https://web.archive.org/web/20140529103439/http://www.envsci.rutgers.edu/~gimenez/Soils%20and%20Water-Lectures/Darcy%20Scientific%20Achievement.pdf',\n",
              " 'https://isni.org/isni/0000000110362660',\n",
              " 'https://www.jstor.org/action/doBasicSearch?Query=%22Henry+Darcy%22&acc=on&wc=on',\n",
              " 'https://www.onepetro.org/journal-paper/SPE-762-G',\n",
              " 'https://api.semanticscholar.org/CorpusID:17549769',\n",
              " 'https://api.semanticscholar.org/CorpusID:51776644',\n",
              " 'https://viaf.org/viaf/5065253',\n",
              " 'https://www.wikidata.org/wiki/Q438507#identifiers',\n",
              " 'https://www.worldcat.org/identities/lccn-n88272940/']"
            ]
          },
          "metadata": {},
          "execution_count": 8
        }
      ]
    },
    {
      "cell_type": "code",
      "source": [
        "wikipedia.page(\"Henry Darcy\").images"
      ],
      "metadata": {
        "colab": {
          "base_uri": "https://localhost:8080/"
        },
        "id": "vtCRr_JNYK4R",
        "outputId": "54d3bf13-3725-4e23-afe6-30a146ac0049"
      },
      "execution_count": null,
      "outputs": [
        {
          "output_type": "execute_result",
          "data": {
            "text/plain": [
              "['https://upload.wikimedia.org/wikipedia/commons/0/00/Dijon_-_parc_Darcy_-_buste_Darcy.JPG',\n",
              " 'https://upload.wikimedia.org/wikipedia/commons/6/65/Henry_Darcy.jpg',\n",
              " 'https://upload.wikimedia.org/wikipedia/en/4/4a/Commons-logo.svg',\n",
              " 'https://upload.wikimedia.org/wikipedia/en/8/8a/OOjs_UI_icon_edit-ltr-progressive.svg',\n",
              " 'https://upload.wikimedia.org/wikipedia/en/1/18/Place_Darcy.JPG',\n",
              " 'https://upload.wikimedia.org/wikipedia/en/9/99/Question_book-new.svg']"
            ]
          },
          "metadata": {},
          "execution_count": 9
        }
      ]
    },
    {
      "cell_type": "markdown",
      "source": [],
      "metadata": {
        "id": "Wyi-LHvkSPG8"
      }
    },
    {
      "cell_type": "markdown",
      "source": [
        "##**Bibliography/References**"
      ],
      "metadata": {
        "id": "JHz5mRY9QIE2"
      }
    },
    {
      "cell_type": "markdown",
      "source": [
        "https://en.wikipedia.org/wiki/Henry_Darcy\n",
        "\n",
        "https://en.wikipedia.org/wiki/Darcy%27s_law\n",
        "\n",
        " Darcy, Henry (1856). \"Les Fontaines Publiques de la Ville de Dijon\". Paris: Victor Dalmont."
      ],
      "metadata": {
        "id": "vKtAnk_JdNSY"
      }
    }
  ]
}