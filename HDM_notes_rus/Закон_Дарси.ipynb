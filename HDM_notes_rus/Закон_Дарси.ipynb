{
  "nbformat": 4,
  "nbformat_minor": 0,
  "metadata": {
    "colab": {
      "provenance": [],
      "authorship_tag": "ABX9TyO4407t9/XcqhGnIFlc+rMX",
      "include_colab_link": true
    },
    "kernelspec": {
      "name": "python3",
      "display_name": "Python 3"
    },
    "language_info": {
      "name": "python"
    }
  },
  "cells": [
    {
      "cell_type": "markdown",
      "metadata": {
        "id": "view-in-github",
        "colab_type": "text"
      },
      "source": [
        "<a href=\"https://colab.research.google.com/github/BISH0808/Hydrodynamics/blob/main/HDM_notes_rus/%D0%97%D0%B0%D0%BA%D0%BE%D0%BD_%D0%94%D0%B0%D1%80%D1%81%D0%B8.ipynb\" target=\"_parent\"><img src=\"https://colab.research.google.com/assets/colab-badge.svg\" alt=\"Open In Colab\"/></a>"
      ]
    },
    {
      "cell_type": "markdown",
      "source": [
        "##**Анри Дарси и закон Дарси**"
      ],
      "metadata": {
        "id": "33ytHEkb5rog"
      }
    },
    {
      "cell_type": "code",
      "execution_count": null,
      "metadata": {
        "colab": {
          "base_uri": "https://localhost:8080/"
        },
        "id": "bGVgiELMRR-B",
        "outputId": "423bd85e-1e28-456c-d4c0-9be83cb80ed6"
      },
      "outputs": [
        {
          "output_type": "stream",
          "name": "stdout",
          "text": [
            "Looking in indexes: https://pypi.org/simple, https://us-python.pkg.dev/colab-wheels/public/simple/\n",
            "Collecting wikipedia\n",
            "  Downloading wikipedia-1.4.0.tar.gz (27 kB)\n",
            "Requirement already satisfied: beautifulsoup4 in /usr/local/lib/python3.8/dist-packages (from wikipedia) (4.6.3)\n",
            "Requirement already satisfied: requests<3.0.0,>=2.0.0 in /usr/local/lib/python3.8/dist-packages (from wikipedia) (2.23.0)\n",
            "Requirement already satisfied: certifi>=2017.4.17 in /usr/local/lib/python3.8/dist-packages (from requests<3.0.0,>=2.0.0->wikipedia) (2022.9.24)\n",
            "Requirement already satisfied: idna<3,>=2.5 in /usr/local/lib/python3.8/dist-packages (from requests<3.0.0,>=2.0.0->wikipedia) (2.10)\n",
            "Requirement already satisfied: urllib3!=1.25.0,!=1.25.1,<1.26,>=1.21.1 in /usr/local/lib/python3.8/dist-packages (from requests<3.0.0,>=2.0.0->wikipedia) (1.24.3)\n",
            "Requirement already satisfied: chardet<4,>=3.0.2 in /usr/local/lib/python3.8/dist-packages (from requests<3.0.0,>=2.0.0->wikipedia) (3.0.4)\n",
            "Building wheels for collected packages: wikipedia\n",
            "  Building wheel for wikipedia (setup.py) ... \u001b[?25l\u001b[?25hdone\n",
            "  Created wheel for wikipedia: filename=wikipedia-1.4.0-py3-none-any.whl size=11695 sha256=8af5060ced8ec309656f0626cc1b9cec9ae80b01d6362c39b5f73aa4ccd645ae\n",
            "  Stored in directory: /root/.cache/pip/wheels/07/93/05/72c05349177dca2e0ba31a33ba4f7907606f7ddef303517c6a\n",
            "Successfully built wikipedia\n",
            "Installing collected packages: wikipedia\n",
            "Successfully installed wikipedia-1.4.0\n"
          ]
        }
      ],
      "source": [
        "!pip install wikipedia\n",
        "import wikipedia\n",
        "\n",
        "from IPython import display"
      ]
    },
    {
      "cell_type": "markdown",
      "source": [
        "##**Биография Анри Дарси**"
      ],
      "metadata": {
        "id": "4JTGvu7DRcOF"
      }
    },
    {
      "cell_type": "markdown",
      "source": [
        "Анри Филибер Гаспар Дарси (фр. Henry Philibert Gaspard Darcy, 10 июня 1803, Дижон, — 2 января 1858, Париж) — французский инженер-гидравлик, обосновавший закон Дарси (1856), связывающий скорость фильтрации жидкости в пористой среде с градиентом давления: «По-видимому, для песка одного качества, пропускаемый им расход прямо пропорционален напору и обратно пропорционален толщине фильтрующего слоя (грунта)». Именем Дарси названа единица измерения проницаемости пористой среды.\n",
        "\n",
        "Под руководством Дарси в г. Дижоне была создана первая в Европе система городских очистных сооружений с различными фильтрационными засыпками. Это настолько изменило город в лучшую сторону, что уже на следующий день после смерти Дарси от пневмонии главной площади города было присвоено его имя."
      ],
      "metadata": {
        "id": "s0pmmQNHXEWc"
      }
    },
    {
      "cell_type": "markdown",
      "source": [
        "Источник: https://ru.wikipedia.org/wiki/%D0%94%D0%B0%D1%80%D1%81%D0%B8,_%D0%90%D0%BD%D1%80%D0%B8 from Wikipedia.org"
      ],
      "metadata": {
        "id": "ERFaLUQob4bx"
      }
    },
    {
      "cell_type": "code",
      "source": [
        "display.Image(wikipedia.page(\"Henry Darcy\").images[1])"
      ],
      "metadata": {
        "colab": {
          "base_uri": "https://localhost:8080/",
          "height": 354
        },
        "id": "miZ_TcXSYprN",
        "outputId": "b97e5da4-ddf3-46df-b2b1-a0ee078e3e17"
      },
      "execution_count": null,
      "outputs": [
        {
          "output_type": "execute_result",
          "data": {
            "image/jpeg": "[encoded data removed]",
            "text/plain": [
              "<IPython.core.display.Image object>"
            ]
          },
          "metadata": {},
          "execution_count": 8
        }
      ]
    },
    {
      "cell_type": "markdown",
      "source": [
        "Получил известность сначала постройкой образцового водопровода в своем родном городе Дижон, за что в его честь была выбита медаль. После 1848 г. Д. был призван в Париж на должность главного инженера гидравлических и мостовых работ. Здесь он предался начатому им ещё в Дижоне изучению законов движения воды в водопроводных трубах и для этого произвел многочисленные опыты.\n",
        "Результаты его трудов имели большое влияние на усовершенствование науки о движении воды. Исследования эти изложены в его соч. «Recherches expérimentales relatives au mouvement de l’eau dans les tuyaux» (П., 1857). До появления этого труда Д. инженеры пользовались единственно формулами Прони, которые основаны на небольшом числе опытов и произведены большей частью над трубами диаметром не более двух дюймов. Д. доказал, в противоположность господствовавшему мнению, что диаметр трубы, как и большая или меньшая гладкость её стенок, имеет чувствительное влияние на скорость протекающей по ней жидкости. В последнее время своей жизни Д. трудился над исследованием законов движения воды в открытых каналах. Опыты дали полезные выводы относительно влияния русла на коэффициенты сопротивления движению воды. Результаты их обнародованы уже после смерти Д. его сотрудником М. Базеном в соч. «Recherches expérimentales sur le mouvement de l’eau dans les canaux découverts», изданном в Париже в 1865 г. Имя Д. связано также с усовершенствованием гидрометрической трубки.\n"
      ],
      "metadata": {
        "id": "WkV7ORCrbrYQ"
      }
    },
    {
      "cell_type": "markdown",
      "source": [
        "Источник: https://ru.wikipedia.org/wiki/%D0%94%D0%B0%D1%80%D1%81%D0%B8,_%D0%90%D0%BD%D1%80%D0%B8 from Wikipedia.org"
      ],
      "metadata": {
        "id": "qx4XXEMAcAQ4"
      }
    },
    {
      "cell_type": "markdown",
      "source": [
        "##**Закон Дарси**"
      ],
      "metadata": {
        "id": "Eyb75P59YgmB"
      }
    },
    {
      "cell_type": "markdown",
      "source": [
        "Закон Дарси (Анри Дарси, 1856) — закон фильтрации жидкостей и газов в пористой среде. Исторически закон был получен А.Дарси экспериментально, но может быть получен с помощью осреднения уравнений Навье – Стокса, описывающих течение в масштабе пор (в настоящее время имеются доказательства для пористых сред с периодической и случайной микроструктурой). Выражает зависимость скорости фильтрации флюида от градиента напора:"
      ],
      "metadata": {
        "id": "vRn3CcktY-Sy"
      }
    },
    {
      "cell_type": "markdown",
      "source": [
        " **q/A = -k/mu * dP/dx**\n",
        "\n",
        "\n",
        "\n",
        "> Notation: \n",
        "\n",
        " q  - расход, cм3/сек\n",
        "\n",
        " A  -  площадь, см2\n",
        "\n",
        " k -  проницаемость, Дарси\n",
        "\n",
        " mu  - вязкость, сП\n",
        "\n",
        " P  - давлениe, атм\n",
        "\n",
        " x  - расстояние, см\n",
        "\n",
        "\n"
      ],
      "metadata": {
        "id": "dNeOB1Vr0k_x"
      }
    },
    {
      "cell_type": "markdown",
      "source": [
        "![image.png](data:image/png;base64,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)"
      ],
      "metadata": {
        "id": "sYmSXotp0hLS"
      }
    },
    {
      "cell_type": "markdown",
      "source": [
        "Источник: https://ru.wikipedia.org/wiki/%D0%94%D0%B0%D1%80%D1%81%D0%B8,_%D0%90%D0%BD%D1%80%D0%B8 from Wikipedia.org\n",
        "\n"
      ],
      "metadata": {
        "id": "To9TlqOvYqqh"
      }
    },
    {
      "cell_type": "markdown",
      "source": [
        "**Первое упоминание**"
      ],
      "metadata": {
        "id": "DAr80yFkzuXC"
      }
    },
    {
      "cell_type": "markdown",
      "source": [
        "В 1856 году в работе Дарси  \"Les fontaines publiques de la ville de Dijon. Paris 1856.” (Общественные фонтаны города Дижон. Париж 1856 г.) опубликованы результаты опытов по фильтрации воды в песке. "
      ],
      "metadata": {
        "id": "pvfuzp0UzzSJ"
      }
    },
    {
      "cell_type": "markdown",
      "source": [
        "Source:  Darcy, Henry (1856). \"Les Fontaines Publiques de la Ville de Dijon\". Paris: Victor Dalmont."
      ],
      "metadata": {
        "id": "Ep_Ifztbzmu3"
      }
    },
    {
      "cell_type": "markdown",
      "source": [
        "**Закон Дарси (интегральная форма):**"
      ],
      "metadata": {
        "id": "Ul2pBdZe4zQB"
      }
    },
    {
      "cell_type": "markdown",
      "source": [
        "![image.png](data:image/png;base64,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)"
      ],
      "metadata": {
        "id": "qBShfLXA44eY"
      }
    },
    {
      "cell_type": "markdown",
      "source": [
        "**Закон Дарси (дифференциальная форма):**"
      ],
      "metadata": {
        "id": "T5FoOMOf02U6"
      }
    },
    {
      "cell_type": "markdown",
      "source": [
        "![image.png](data:image/png;base64,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)"
      ],
      "metadata": {
        "id": "lLJRMEDu49ZB"
      }
    },
    {
      "cell_type": "markdown",
      "source": [
        "**Основные допущения:**"
      ],
      "metadata": {
        "id": "EHRVpL6i5Akg"
      }
    },
    {
      "cell_type": "markdown",
      "source": [
        "* Постоянный дебит\n",
        "*\tЛаминарное течение\n",
        "*\tГомогенная среда фильтрации\n",
        "*\tПоровое пространство насыщено одной фазой\n",
        "*\tОтсутствие химического взаимодействия между породой и флюидом\n"
      ],
      "metadata": {
        "id": "9CLh4DW55JAA"
      }
    },
    {
      "cell_type": "markdown",
      "source": [
        "**Линейный закон фильтрация Дарси:**"
      ],
      "metadata": {
        "id": "KJdhaOBj8XMH"
      }
    },
    {
      "cell_type": "markdown",
      "source": [
        "![image.png](data:image/png;base64,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)"
      ],
      "metadata": {
        "id": "wowXNGEs8of6"
      }
    },
    {
      "cell_type": "markdown",
      "source": [
        "**Радиальное течение закона фильтрации Дарси:**"
      ],
      "metadata": {
        "id": "Wk64-eGd87si"
      }
    },
    {
      "cell_type": "markdown",
      "source": [
        "![image.png](data:image/png;base64,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)"
      ],
      "metadata": {
        "id": "UNP0uAmr9TxJ"
      }
    },
    {
      "cell_type": "markdown",
      "source": [
        "**Область применимости закона Дарси**"
      ],
      "metadata": {
        "id": "3D8Nhy2E9ag3"
      }
    },
    {
      "cell_type": "markdown",
      "source": [
        "Закон Дарси примени́м для фильтрации жидкостей, подчиняющихся закону вязкого трения Ньютона (закону Навье — Стокса). Для фильтрации неньютоновских жидкостей (например, некоторых нефтей) связь между градиентом давления и скоростью фильтрации может быть нелинейной или вообще неалгебраической (например, дифференциальной).\n",
        "\n",
        "Для ньютоновских жидкостей область применения закона Дарси ограничивается малыми скоростями фильтрации (числа Рейнольдса, рассчитанные по характерному размеру пор, меньше или порядка единицы). При бо́льших скоростях зависимость между градиентом давления и скоростью фильтрации нелинейна (хорошее совпадение с экспериментальными данными даёт квадратичная зависимость — закон фильтрации Форхгеймера)."
      ],
      "metadata": {
        "id": "VCOe4MM992ox"
      }
    },
    {
      "cell_type": "markdown",
      "source": [
        "Источник: https://ru.wikipedia.org/wiki/%D0%97%D0%B0%D0%BA%D0%BE%D0%BD_%D0%94%D0%B0%D1%80%D1%81%D0%B8 from Wikipedia.org\n"
      ],
      "metadata": {
        "id": "foglm95k96KX"
      }
    },
    {
      "cell_type": "markdown",
      "source": [
        "##**Библиография/ссылки**"
      ],
      "metadata": {
        "id": "eKwQeZ-XYyFB"
      }
    },
    {
      "cell_type": "markdown",
      "source": [
        "https://en.wikipedia.org/wiki/Henry_Darcy\n",
        "https://ru.wikipedia.org/wiki/%D0%94%D0%B0%D1%80%D1%81%D0%B8,_%D0%90%D0%BD%D1%80%D0%B8\n",
        "https://ru.wikipedia.org/wiki/%D0%97%D0%B0%D0%BA%D0%BE%D0%BD_%D0%94%D0%B0%D1%80%D1%81%D0%B8\n",
        "\n",
        "Darcy, Henry (1856). \"Les Fontaines Publiques de la Ville de Dijon\". Paris: Victor Dalmont."
      ],
      "metadata": {
        "id": "lMeMEoVEY7Vq"
      }
    }
  ]
}