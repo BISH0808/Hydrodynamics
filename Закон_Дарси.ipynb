{
  "nbformat": 4,
  "nbformat_minor": 0,
  "metadata": {
    "colab": {
      "provenance": [],
      "authorship_tag": "ABX9TyMSR6pREXbjQcuYeMd7rDx6",
      "include_colab_link": true
    },
    "kernelspec": {
      "name": "python3",
      "display_name": "Python 3"
    },
    "language_info": {
      "name": "python"
    }
  },
  "cells": [
    {
      "cell_type": "markdown",
      "metadata": {
        "id": "view-in-github",
        "colab_type": "text"
      },
      "source": [
        "<a href=\"https://colab.research.google.com/github/BISH0808/Hydrodynamics/blob/main/%D0%97%D0%B0%D0%BA%D0%BE%D0%BD_%D0%94%D0%B0%D1%80%D1%81%D0%B8.ipynb\" target=\"_parent\"><img src=\"https://colab.research.google.com/assets/colab-badge.svg\" alt=\"Open In Colab\"/></a>"
      ]
    },
    {
      "cell_type": "code",
      "execution_count": 1,
      "metadata": {
        "colab": {
          "base_uri": "https://localhost:8080/"
        },
        "id": "bGVgiELMRR-B",
        "outputId": "71e5451e-28d0-4b18-ba91-91fe0f1720c9"
      },
      "outputs": [
        {
          "output_type": "stream",
          "name": "stdout",
          "text": [
            "Looking in indexes: https://pypi.org/simple, https://us-python.pkg.dev/colab-wheels/public/simple/\n",
            "Collecting wikipedia\n",
            "  Downloading wikipedia-1.4.0.tar.gz (27 kB)\n",
            "Requirement already satisfied: beautifulsoup4 in /usr/local/lib/python3.8/dist-packages (from wikipedia) (4.6.3)\n",
            "Requirement already satisfied: requests<3.0.0,>=2.0.0 in /usr/local/lib/python3.8/dist-packages (from wikipedia) (2.23.0)\n",
            "Requirement already satisfied: chardet<4,>=3.0.2 in /usr/local/lib/python3.8/dist-packages (from requests<3.0.0,>=2.0.0->wikipedia) (3.0.4)\n",
            "Requirement already satisfied: certifi>=2017.4.17 in /usr/local/lib/python3.8/dist-packages (from requests<3.0.0,>=2.0.0->wikipedia) (2022.9.24)\n",
            "Requirement already satisfied: idna<3,>=2.5 in /usr/local/lib/python3.8/dist-packages (from requests<3.0.0,>=2.0.0->wikipedia) (2.10)\n",
            "Requirement already satisfied: urllib3!=1.25.0,!=1.25.1,<1.26,>=1.21.1 in /usr/local/lib/python3.8/dist-packages (from requests<3.0.0,>=2.0.0->wikipedia) (1.24.3)\n",
            "Building wheels for collected packages: wikipedia\n",
            "  Building wheel for wikipedia (setup.py) ... \u001b[?25l\u001b[?25hdone\n",
            "  Created wheel for wikipedia: filename=wikipedia-1.4.0-py3-none-any.whl size=11695 sha256=e75fd00383fbbf4e1dbc28dcac4e52ab012af29649ad8f1ef9fe69c51e3818b2\n",
            "  Stored in directory: /root/.cache/pip/wheels/07/93/05/72c05349177dca2e0ba31a33ba4f7907606f7ddef303517c6a\n",
            "Successfully built wikipedia\n",
            "Installing collected packages: wikipedia\n",
            "Successfully installed wikipedia-1.4.0\n"
          ]
        }
      ],
      "source": [
        "!pip install wikipedia\n",
        "import wikipedia\n",
        "\n",
        "from IPython import display"
      ]
    },
    {
      "cell_type": "markdown",
      "source": [
        "##**Закон Дарси**"
      ],
      "metadata": {
        "id": "4JTGvu7DRcOF"
      }
    },
    {
      "cell_type": "markdown",
      "source": [
        "Анри Филибер Гаспар Дарси (фр. Henry Philibert Gaspard Darcy, 10 июня 1803, Дижон, — 2 января 1858, Париж) — французский инженер-гидравлик, обосновавший закон Дарси (1856), связывающий скорость фильтрации жидкости в пористой среде с градиентом давления: «По-видимому, для песка одного качества, пропускаемый им расход прямо пропорционален напору и обратно пропорционален толщине фильтрующего слоя (грунта)». Именем Дарси названа единица измерения проницаемости пористой среды.\n",
        "\n",
        "Под руководством Дарси в г. Дижоне была создана первая в Европе система городских очистных сооружений с различными фильтрационными засыпками. Это настолько изменило город в лучшую сторону, что уже на следующий день после смерти Дарси от пневмонии главной площади города было присвоено его имя."
      ],
      "metadata": {
        "id": "s0pmmQNHXEWc"
      }
    },
    {
      "cell_type": "markdown",
      "source": [
        "Source: https://ru.wikipedia.org/wiki/%D0%94%D0%B0%D1%80%D1%81%D0%B8,_%D0%90%D0%BD%D1%80%D0%B8 from Wikipedia.org"
      ],
      "metadata": {
        "id": "ERFaLUQob4bx"
      }
    },
    {
      "cell_type": "code",
      "source": [
        "display.Image(wikipedia.page(\"Henry Darcy\").images[1])"
      ],
      "metadata": {
        "colab": {
          "base_uri": "https://localhost:8080/",
          "height": 354
        },
        "id": "miZ_TcXSYprN",
        "outputId": "b97e5da4-ddf3-46df-b2b1-a0ee078e3e17"
      },
      "execution_count": 8,
      "outputs": [
        {
          "output_type": "execute_result",
          "data": {
            "image/jpeg": "[encoded data removed]",
            "text/plain": [
              "<IPython.core.display.Image object>"
            ]
          },
          "metadata": {},
          "execution_count": 8
        }
      ]
    },
    {
      "cell_type": "markdown",
      "source": [
        "Получил известность сначала постройкой образцового водопровода в своем родном городе Дижон, за что в его честь была выбита медаль. После 1848 г. Д. был призван в Париж на должность главного инженера гидравлических и мостовых работ. Здесь он предался начатому им ещё в Дижоне изучению законов движения воды в водопроводных трубах и для этого произвел многочисленные опыты.\n",
        "Результаты его трудов имели большое влияние на усовершенствование науки о движении воды. Исследования эти изложены в его соч. «Recherches expérimentales relatives au mouvement de l’eau dans les tuyaux» (П., 1857). До появления этого труда Д. инженеры пользовались единственно формулами Прони, которые основаны на небольшом числе опытов и произведены большей частью над трубами диаметром не более двух дюймов. Д. доказал, в противоположность господствовавшему мнению, что диаметр трубы, как и большая или меньшая гладкость её стенок, имеет чувствительное влияние на скорость протекающей по ней жидкости. В последнее время своей жизни Д. трудился над исследованием законов движения воды в открытых каналах. Опыты дали полезные выводы относительно влияния русла на коэффициенты сопротивления движению воды. Результаты их обнародованы уже после смерти Д. его сотрудником М. Базеном в соч. «Recherches expérimentales sur le mouvement de l’eau dans les canaux découverts», изданном в Париже в 1865 г. Имя Д. связано также с усовершенствованием гидрометрической трубки.\n"
      ],
      "metadata": {
        "id": "WkV7ORCrbrYQ"
      }
    },
    {
      "cell_type": "markdown",
      "source": [
        "Source: https://ru.wikipedia.org/wiki/%D0%94%D0%B0%D1%80%D1%81%D0%B8,_%D0%90%D0%BD%D1%80%D0%B8 from Wikipedia.org"
      ],
      "metadata": {
        "id": "qx4XXEMAcAQ4"
      }
    },
    {
      "cell_type": "markdown",
      "source": [
        "##**Библиография/ссылки**"
      ],
      "metadata": {
        "id": "eKwQeZ-XYyFB"
      }
    },
    {
      "cell_type": "markdown",
      "source": [
        "https://en.wikipedia.org/wiki/Henry_Darcy\n",
        "https://ru.wikipedia.org/wiki/%D0%94%D0%B0%D1%80%D1%81%D0%B8,_%D0%90%D0%BD%D1%80%D0%B8"
      ],
      "metadata": {
        "id": "lMeMEoVEY7Vq"
      }
    },
    {
      "cell_type": "code",
      "source": [],
      "metadata": {
        "id": "bzEUreUGY4v5"
      },
      "execution_count": null,
      "outputs": []
    },
    {
      "cell_type": "markdown",
      "source": [],
      "metadata": {
        "id": "qHKwY31lXDX0"
      }
    },
    {
      "cell_type": "markdown",
      "source": [],
      "metadata": {
        "id": "QFuWAcNCRf_N"
      }
    }
  ]
}